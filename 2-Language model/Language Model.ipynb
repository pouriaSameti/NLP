{
 "cells": [
  {
   "cell_type": "code",
   "execution_count": 13,
   "metadata": {
    "collapsed": true,
    "ExecuteTime": {
     "end_time": "2024-04-21T07:03:42.757449200Z",
     "start_time": "2024-04-21T07:03:42.751441Z"
    }
   },
   "outputs": [],
   "source": [
    "import numpy as np\n",
    "import pandas as pd\n",
    "import nltk"
   ]
  },
  {
   "cell_type": "code",
   "execution_count": 14,
   "outputs": [
    {
     "name": "stderr",
     "output_type": "stream",
     "text": [
      "[nltk_data] Downloading package punkt to\n",
      "[nltk_data]     C:\\Users\\pouri\\AppData\\Roaming\\nltk_data...\n",
      "[nltk_data]   Unzipping tokenizers\\punkt.zip.\n"
     ]
    },
    {
     "data": {
      "text/plain": "True"
     },
     "execution_count": 14,
     "metadata": {},
     "output_type": "execute_result"
    }
   ],
   "source": [
    "#Download requirements\n",
    "nltk.download('punkt')"
   ],
   "metadata": {
    "collapsed": false,
    "ExecuteTime": {
     "end_time": "2024-04-21T07:06:59.707657200Z",
     "start_time": "2024-04-21T07:03:43.337659200Z"
    }
   }
  },
  {
   "cell_type": "code",
   "execution_count": 15,
   "outputs": [
    {
     "data": {
      "text/plain": "                                               comment\n0    نسبت به قیمتش ارزش خرید داره\\nجاداره، طراحیش ق...\n1    چند ماهی میشه که گرفتمش‌. برای برنامه نویسی و ...\n2                                      پراید ستون جدید\n3    اقا همه چیش خوبه فقط از پایین زیاد حاشیه داره ...\n4    گوسی هو اوی p10 lite سیپیو و دوربین و رمش از ا...\n..                                                 ...\n235                   پوشش دهی صفر.اصلا پیشنهاد نمیکنم\n236  نصب این فن خیلی راحته و دردسر  زیادی نداره درض...\n237                                           بی کیفیت\n238  سلام ٬ چندماهی میشه این پاور بانک رو تهیه کردم...\n239  این مدل رو من چند روزی هست که دریافت کردم.توی ...\n\n[240 rows x 1 columns]",
      "text/html": "<div>\n<style scoped>\n    .dataframe tbody tr th:only-of-type {\n        vertical-align: middle;\n    }\n\n    .dataframe tbody tr th {\n        vertical-align: top;\n    }\n\n    .dataframe thead th {\n        text-align: right;\n    }\n</style>\n<table border=\"1\" class=\"dataframe\">\n  <thead>\n    <tr style=\"text-align: right;\">\n      <th></th>\n      <th>comment</th>\n    </tr>\n  </thead>\n  <tbody>\n    <tr>\n      <th>0</th>\n      <td>نسبت به قیمتش ارزش خرید داره\\nجاداره، طراحیش ق...</td>\n    </tr>\n    <tr>\n      <th>1</th>\n      <td>چند ماهی میشه که گرفتمش‌. برای برنامه نویسی و ...</td>\n    </tr>\n    <tr>\n      <th>2</th>\n      <td>پراید ستون جدید</td>\n    </tr>\n    <tr>\n      <th>3</th>\n      <td>اقا همه چیش خوبه فقط از پایین زیاد حاشیه داره ...</td>\n    </tr>\n    <tr>\n      <th>4</th>\n      <td>گوسی هو اوی p10 lite سیپیو و دوربین و رمش از ا...</td>\n    </tr>\n    <tr>\n      <th>...</th>\n      <td>...</td>\n    </tr>\n    <tr>\n      <th>235</th>\n      <td>پوشش دهی صفر.اصلا پیشنهاد نمیکنم</td>\n    </tr>\n    <tr>\n      <th>236</th>\n      <td>نصب این فن خیلی راحته و دردسر  زیادی نداره درض...</td>\n    </tr>\n    <tr>\n      <th>237</th>\n      <td>بی کیفیت</td>\n    </tr>\n    <tr>\n      <th>238</th>\n      <td>سلام ٬ چندماهی میشه این پاور بانک رو تهیه کردم...</td>\n    </tr>\n    <tr>\n      <th>239</th>\n      <td>این مدل رو من چند روزی هست که دریافت کردم.توی ...</td>\n    </tr>\n  </tbody>\n</table>\n<p>240 rows × 1 columns</p>\n</div>"
     },
     "execution_count": 15,
     "metadata": {},
     "output_type": "execute_result"
    }
   ],
   "source": [
    "data = pd.read_csv('Data/digikala_comment.csv')\n",
    "data"
   ],
   "metadata": {
    "collapsed": false,
    "ExecuteTime": {
     "end_time": "2024-04-21T07:07:19.737816700Z",
     "start_time": "2024-04-21T07:07:19.717592200Z"
    }
   }
  },
  {
   "cell_type": "code",
   "execution_count": 16,
   "outputs": [
    {
     "data": {
      "text/plain": "                                               comment\n0    [نسبت به قیمتش ارزش خرید داره\\nجاداره، طراحیش ...\n1    [چند ماهی میشه که گرفتمش‌., برای برنامه نویسی ...\n2                                    [پراید ستون جدید]\n3    [اقا همه چیش خوبه فقط از پایین زیاد حاشیه داره...\n4    [گوسی هو اوی p10 lite سیپیو و دوربین و رمش از ...\n..                                                 ...\n235                 [پوشش دهی صفر.اصلا پیشنهاد نمیکنم]\n236  [نصب این فن خیلی راحته و دردسر  زیادی نداره در...\n237                                         [بی کیفیت]\n238  [سلام ٬ چندماهی میشه این پاور بانک رو تهیه کرد...\n239  [این مدل رو من چند روزی هست که دریافت کردم.توی...\n\n[240 rows x 1 columns]",
      "text/html": "<div>\n<style scoped>\n    .dataframe tbody tr th:only-of-type {\n        vertical-align: middle;\n    }\n\n    .dataframe tbody tr th {\n        vertical-align: top;\n    }\n\n    .dataframe thead th {\n        text-align: right;\n    }\n</style>\n<table border=\"1\" class=\"dataframe\">\n  <thead>\n    <tr style=\"text-align: right;\">\n      <th></th>\n      <th>comment</th>\n    </tr>\n  </thead>\n  <tbody>\n    <tr>\n      <th>0</th>\n      <td>[نسبت به قیمتش ارزش خرید داره\\nجاداره، طراحیش ...</td>\n    </tr>\n    <tr>\n      <th>1</th>\n      <td>[چند ماهی میشه که گرفتمش‌., برای برنامه نویسی ...</td>\n    </tr>\n    <tr>\n      <th>2</th>\n      <td>[پراید ستون جدید]</td>\n    </tr>\n    <tr>\n      <th>3</th>\n      <td>[اقا همه چیش خوبه فقط از پایین زیاد حاشیه داره...</td>\n    </tr>\n    <tr>\n      <th>4</th>\n      <td>[گوسی هو اوی p10 lite سیپیو و دوربین و رمش از ...</td>\n    </tr>\n    <tr>\n      <th>...</th>\n      <td>...</td>\n    </tr>\n    <tr>\n      <th>235</th>\n      <td>[پوشش دهی صفر.اصلا پیشنهاد نمیکنم]</td>\n    </tr>\n    <tr>\n      <th>236</th>\n      <td>[نصب این فن خیلی راحته و دردسر  زیادی نداره در...</td>\n    </tr>\n    <tr>\n      <th>237</th>\n      <td>[بی کیفیت]</td>\n    </tr>\n    <tr>\n      <th>238</th>\n      <td>[سلام ٬ چندماهی میشه این پاور بانک رو تهیه کرد...</td>\n    </tr>\n    <tr>\n      <th>239</th>\n      <td>[این مدل رو من چند روزی هست که دریافت کردم.توی...</td>\n    </tr>\n  </tbody>\n</table>\n<p>240 rows × 1 columns</p>\n</div>"
     },
     "execution_count": 16,
     "metadata": {},
     "output_type": "execute_result"
    }
   ],
   "source": [
    "# Sentence Tokenizing\n",
    "from nltk.tokenize import sent_tokenize\n",
    "\n",
    "def sentence_tokenizing(text):\n",
    "    return sentence_tokenizing(text)\n",
    "\n",
    "data['comment'] = data.apply(lambda text:sent_tokenize(text['comment']), axis=1)\n",
    "data"
   ],
   "metadata": {
    "collapsed": false,
    "ExecuteTime": {
     "end_time": "2024-04-21T07:07:20.746450900Z",
     "start_time": "2024-04-21T07:07:20.697727200Z"
    }
   }
  },
  {
   "cell_type": "code",
   "execution_count": null,
   "outputs": [],
   "source": [],
   "metadata": {
    "collapsed": false,
    "ExecuteTime": {
     "start_time": "2024-04-21T07:01:15.645353200Z"
    }
   }
  }
 ],
 "metadata": {
  "kernelspec": {
   "display_name": "Python 3",
   "language": "python",
   "name": "python3"
  },
  "language_info": {
   "codemirror_mode": {
    "name": "ipython",
    "version": 2
   },
   "file_extension": ".py",
   "mimetype": "text/x-python",
   "name": "python",
   "nbconvert_exporter": "python",
   "pygments_lexer": "ipython2",
   "version": "2.7.6"
  }
 },
 "nbformat": 4,
 "nbformat_minor": 0
}
