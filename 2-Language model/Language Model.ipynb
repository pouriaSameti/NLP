{
 "cells": [
  {
   "cell_type": "code",
   "execution_count": 70,
   "metadata": {
    "collapsed": true,
    "ExecuteTime": {
     "end_time": "2024-04-21T07:20:15.834725900Z",
     "start_time": "2024-04-21T07:20:15.765779500Z"
    }
   },
   "outputs": [],
   "source": [
    "import numpy as np\n",
    "import pandas as pd\n",
    "import nltk"
   ]
  },
  {
   "cell_type": "code",
   "execution_count": 71,
   "outputs": [
    {
     "name": "stderr",
     "output_type": "stream",
     "text": [
      "[nltk_data] Downloading package punkt to\n",
      "[nltk_data]     C:\\Users\\pouri\\AppData\\Roaming\\nltk_data...\n",
      "[nltk_data]   Package punkt is already up-to-date!\n"
     ]
    },
    {
     "data": {
      "text/plain": "True"
     },
     "execution_count": 71,
     "metadata": {},
     "output_type": "execute_result"
    }
   ],
   "source": [
    "#Download requirements\n",
    "nltk.download('punkt')"
   ],
   "metadata": {
    "collapsed": false,
    "ExecuteTime": {
     "end_time": "2024-04-21T07:20:15.835724100Z",
     "start_time": "2024-04-21T07:20:15.774114300Z"
    }
   }
  },
  {
   "cell_type": "code",
   "execution_count": 72,
   "outputs": [
    {
     "data": {
      "text/plain": "                                               comment\n0    نسبت به قیمتش ارزش خرید داره\\nجاداره، طراحیش ق...\n1    چند ماهی میشه که گرفتمش‌. برای برنامه نویسی و ...\n2                                      پراید ستون جدید\n3    اقا همه چیش خوبه فقط از پایین زیاد حاشیه داره ...\n4    گوسی هو اوی p10 lite سیپیو و دوربین و رمش از ا...\n..                                                 ...\n235                   پوشش دهی صفر.اصلا پیشنهاد نمیکنم\n236  نصب این فن خیلی راحته و دردسر  زیادی نداره درض...\n237                                           بی کیفیت\n238  سلام ٬ چندماهی میشه این پاور بانک رو تهیه کردم...\n239  این مدل رو من چند روزی هست که دریافت کردم.توی ...\n\n[240 rows x 1 columns]",
      "text/html": "<div>\n<style scoped>\n    .dataframe tbody tr th:only-of-type {\n        vertical-align: middle;\n    }\n\n    .dataframe tbody tr th {\n        vertical-align: top;\n    }\n\n    .dataframe thead th {\n        text-align: right;\n    }\n</style>\n<table border=\"1\" class=\"dataframe\">\n  <thead>\n    <tr style=\"text-align: right;\">\n      <th></th>\n      <th>comment</th>\n    </tr>\n  </thead>\n  <tbody>\n    <tr>\n      <th>0</th>\n      <td>نسبت به قیمتش ارزش خرید داره\\nجاداره، طراحیش ق...</td>\n    </tr>\n    <tr>\n      <th>1</th>\n      <td>چند ماهی میشه که گرفتمش‌. برای برنامه نویسی و ...</td>\n    </tr>\n    <tr>\n      <th>2</th>\n      <td>پراید ستون جدید</td>\n    </tr>\n    <tr>\n      <th>3</th>\n      <td>اقا همه چیش خوبه فقط از پایین زیاد حاشیه داره ...</td>\n    </tr>\n    <tr>\n      <th>4</th>\n      <td>گوسی هو اوی p10 lite سیپیو و دوربین و رمش از ا...</td>\n    </tr>\n    <tr>\n      <th>...</th>\n      <td>...</td>\n    </tr>\n    <tr>\n      <th>235</th>\n      <td>پوشش دهی صفر.اصلا پیشنهاد نمیکنم</td>\n    </tr>\n    <tr>\n      <th>236</th>\n      <td>نصب این فن خیلی راحته و دردسر  زیادی نداره درض...</td>\n    </tr>\n    <tr>\n      <th>237</th>\n      <td>بی کیفیت</td>\n    </tr>\n    <tr>\n      <th>238</th>\n      <td>سلام ٬ چندماهی میشه این پاور بانک رو تهیه کردم...</td>\n    </tr>\n    <tr>\n      <th>239</th>\n      <td>این مدل رو من چند روزی هست که دریافت کردم.توی ...</td>\n    </tr>\n  </tbody>\n</table>\n<p>240 rows × 1 columns</p>\n</div>"
     },
     "execution_count": 72,
     "metadata": {},
     "output_type": "execute_result"
    }
   ],
   "source": [
    "data = pd.read_csv('Data/digikala_comment.csv')\n",
    "data"
   ],
   "metadata": {
    "collapsed": false,
    "ExecuteTime": {
     "end_time": "2024-04-21T07:20:15.836763600Z",
     "start_time": "2024-04-21T07:20:15.789202800Z"
    }
   }
  },
  {
   "cell_type": "code",
   "execution_count": 73,
   "outputs": [
    {
     "data": {
      "text/plain": "                                               comment\n0    [نسبت به قیمتش ارزش خرید داره\\nجاداره، طراحیش ...\n1    [چند ماهی میشه که گرفتمش‌., برای برنامه نویسی ...\n2                                    [پراید ستون جدید]\n3    [اقا همه چیش خوبه فقط از پایین زیاد حاشیه داره...\n4    [گوسی هو اوی p10 lite سیپیو و دوربین و رمش از ...\n..                                                 ...\n235                 [پوشش دهی صفر.اصلا پیشنهاد نمیکنم]\n236  [نصب این فن خیلی راحته و دردسر  زیادی نداره در...\n237                                         [بی کیفیت]\n238  [سلام ٬ چندماهی میشه این پاور بانک رو تهیه کرد...\n239  [این مدل رو من چند روزی هست که دریافت کردم.توی...\n\n[240 rows x 1 columns]",
      "text/html": "<div>\n<style scoped>\n    .dataframe tbody tr th:only-of-type {\n        vertical-align: middle;\n    }\n\n    .dataframe tbody tr th {\n        vertical-align: top;\n    }\n\n    .dataframe thead th {\n        text-align: right;\n    }\n</style>\n<table border=\"1\" class=\"dataframe\">\n  <thead>\n    <tr style=\"text-align: right;\">\n      <th></th>\n      <th>comment</th>\n    </tr>\n  </thead>\n  <tbody>\n    <tr>\n      <th>0</th>\n      <td>[نسبت به قیمتش ارزش خرید داره\\nجاداره، طراحیش ...</td>\n    </tr>\n    <tr>\n      <th>1</th>\n      <td>[چند ماهی میشه که گرفتمش‌., برای برنامه نویسی ...</td>\n    </tr>\n    <tr>\n      <th>2</th>\n      <td>[پراید ستون جدید]</td>\n    </tr>\n    <tr>\n      <th>3</th>\n      <td>[اقا همه چیش خوبه فقط از پایین زیاد حاشیه داره...</td>\n    </tr>\n    <tr>\n      <th>4</th>\n      <td>[گوسی هو اوی p10 lite سیپیو و دوربین و رمش از ...</td>\n    </tr>\n    <tr>\n      <th>...</th>\n      <td>...</td>\n    </tr>\n    <tr>\n      <th>235</th>\n      <td>[پوشش دهی صفر.اصلا پیشنهاد نمیکنم]</td>\n    </tr>\n    <tr>\n      <th>236</th>\n      <td>[نصب این فن خیلی راحته و دردسر  زیادی نداره در...</td>\n    </tr>\n    <tr>\n      <th>237</th>\n      <td>[بی کیفیت]</td>\n    </tr>\n    <tr>\n      <th>238</th>\n      <td>[سلام ٬ چندماهی میشه این پاور بانک رو تهیه کرد...</td>\n    </tr>\n    <tr>\n      <th>239</th>\n      <td>[این مدل رو من چند روزی هست که دریافت کردم.توی...</td>\n    </tr>\n  </tbody>\n</table>\n<p>240 rows × 1 columns</p>\n</div>"
     },
     "execution_count": 73,
     "metadata": {},
     "output_type": "execute_result"
    }
   ],
   "source": [
    "# Sentence Tokenizing\n",
    "from nltk.tokenize import sent_tokenize\n",
    "\n",
    "def sentence_tokenizing(text):\n",
    "    return sentence_tokenizing(text)\n",
    "\n",
    "data['comment'] = data.apply(lambda text:sent_tokenize(text['comment']), axis=1)\n",
    "data"
   ],
   "metadata": {
    "collapsed": false,
    "ExecuteTime": {
     "end_time": "2024-04-21T07:20:15.837740600Z",
     "start_time": "2024-04-21T07:20:15.806575600Z"
    }
   }
  },
  {
   "cell_type": "code",
   "execution_count": 74,
   "outputs": [
    {
     "data": {
      "text/plain": "                                               comment\n0    [نسبت به قیمتش ارزش خرید دارهجاداره طراحیش قشن...\n1    [چند ماهی میشه که گرفتمش‌, برای برنامه نویسی و...\n2                                    [پراید ستون جدید]\n3    [اقا همه چیش خوبه فقط از پایین زیاد حاشیه داره...\n4    [گوسی هو اوی   سیپیو و دوربین و رمش از این خیل...\n..                                                 ...\n235                  [پوشش دهی صفراصلا پیشنهاد نمیکنم]\n236  [نصب این فن خیلی راحته و دردسر  زیادی نداره در...\n237                                         [بی کیفیت]\n238  [سلام ٬ چندماهی میشه این پاور بانک رو تهیه کرد...\n239  [این مدل رو من چند روزی هست که دریافت کردمتوی ...\n\n[240 rows x 1 columns]",
      "text/html": "<div>\n<style scoped>\n    .dataframe tbody tr th:only-of-type {\n        vertical-align: middle;\n    }\n\n    .dataframe tbody tr th {\n        vertical-align: top;\n    }\n\n    .dataframe thead th {\n        text-align: right;\n    }\n</style>\n<table border=\"1\" class=\"dataframe\">\n  <thead>\n    <tr style=\"text-align: right;\">\n      <th></th>\n      <th>comment</th>\n    </tr>\n  </thead>\n  <tbody>\n    <tr>\n      <th>0</th>\n      <td>[نسبت به قیمتش ارزش خرید دارهجاداره طراحیش قشن...</td>\n    </tr>\n    <tr>\n      <th>1</th>\n      <td>[چند ماهی میشه که گرفتمش‌, برای برنامه نویسی و...</td>\n    </tr>\n    <tr>\n      <th>2</th>\n      <td>[پراید ستون جدید]</td>\n    </tr>\n    <tr>\n      <th>3</th>\n      <td>[اقا همه چیش خوبه فقط از پایین زیاد حاشیه داره...</td>\n    </tr>\n    <tr>\n      <th>4</th>\n      <td>[گوسی هو اوی   سیپیو و دوربین و رمش از این خیل...</td>\n    </tr>\n    <tr>\n      <th>...</th>\n      <td>...</td>\n    </tr>\n    <tr>\n      <th>235</th>\n      <td>[پوشش دهی صفراصلا پیشنهاد نمیکنم]</td>\n    </tr>\n    <tr>\n      <th>236</th>\n      <td>[نصب این فن خیلی راحته و دردسر  زیادی نداره در...</td>\n    </tr>\n    <tr>\n      <th>237</th>\n      <td>[بی کیفیت]</td>\n    </tr>\n    <tr>\n      <th>238</th>\n      <td>[سلام ٬ چندماهی میشه این پاور بانک رو تهیه کرد...</td>\n    </tr>\n    <tr>\n      <th>239</th>\n      <td>[این مدل رو من چند روزی هست که دریافت کردمتوی ...</td>\n    </tr>\n  </tbody>\n</table>\n<p>240 rows × 1 columns</p>\n</div>"
     },
     "execution_count": 74,
     "metadata": {},
     "output_type": "execute_result"
    }
   ],
   "source": [
    "import re\n",
    "import string\n",
    "\n",
    "def clean_fa_text(text):\n",
    "    #removing english characters and signs\n",
    "    text = ''.join([i for i in text if not ((65 <= ord(i) <91)\n",
    "                                            or (97 <= ord(i) < 123)\n",
    "                                            or (48 <= ord(i) < 58))])\n",
    "\n",
    "    #removing nbsp\n",
    "    text_list = []\n",
    "    for char in text:\n",
    "        if ord(char) == 160:\n",
    "            text_list.append(' ')\n",
    "            continue\n",
    "        text_list.append(char)\n",
    "    text = ''.join(text_list)\n",
    "\n",
    "    # removing sign\n",
    "    text = ''.join([i for i in text if ord(i) not in [33, 34, 35, 36, 37, 38,\n",
    "                                                      39, 40, 41, 42, 43, 44,\n",
    "                                                      45, 46, 47, 58, 59, 60,\n",
    "                                                      61, 62, 63, 64, 91, 92,\n",
    "                                                      93, 94, 95, 96, 123, 124,\n",
    "                                                      125, 126, 1548, 1567]])\n",
    "    text = re.sub('\\[.*?\\]', '', text)\n",
    "    text = re.sub('<.*?>+', '', text)\n",
    "    text = re.sub('[%s]' % re.escape(string.punctuation), '', text)\n",
    "    text = re.sub('\\n', '', text)\n",
    "    text = re.sub('\\w*\\d\\w*', '', text)\n",
    "    return text\n",
    "\n",
    "def apply_clean(list_sentence: list):\n",
    "    new_list = []\n",
    "    for sent in list_sentence:\n",
    "        new_list.append(clean_fa_text(sent))\n",
    "    return new_list\n",
    "\n",
    "data['comment'] = data['comment'].apply(apply_clean)\n",
    "data"
   ],
   "metadata": {
    "collapsed": false,
    "ExecuteTime": {
     "end_time": "2024-04-21T07:20:18.753258600Z",
     "start_time": "2024-04-21T07:20:18.736654100Z"
    }
   }
  },
  {
   "cell_type": "code",
   "execution_count": 75,
   "outputs": [
    {
     "data": {
      "text/plain": "                                               comment\n0    [نسبت به قیمتش ارزش خرید دارهجاداره طراحیش قشن...\n1    [چند ماهی میشه که گرفتمش, برای برنامه نویسی و ...\n2                                    [پراید ستون جدید]\n3    [اقا همه چیش خوبه فقط از پایین زیاد حاشیه داره...\n4    [گوسی هو اوی سیپیو و دوربین و رمش از این خیلی ...\n..                                                 ...\n235                 [پوشش دهی صفراصلا پیشنهاد نمی‌کنم]\n236  [نصب این فن خیلی راحته و دردسر زیادی نداره درض...\n237                                         [بی‌کیفیت]\n238  [سلام ٬ چندماهی میشه این پاور بانک رو تهیه کرد...\n239  [این مدل رو من چند روزی هست که دریافت کردمتوی ...\n\n[240 rows x 1 columns]",
      "text/html": "<div>\n<style scoped>\n    .dataframe tbody tr th:only-of-type {\n        vertical-align: middle;\n    }\n\n    .dataframe tbody tr th {\n        vertical-align: top;\n    }\n\n    .dataframe thead th {\n        text-align: right;\n    }\n</style>\n<table border=\"1\" class=\"dataframe\">\n  <thead>\n    <tr style=\"text-align: right;\">\n      <th></th>\n      <th>comment</th>\n    </tr>\n  </thead>\n  <tbody>\n    <tr>\n      <th>0</th>\n      <td>[نسبت به قیمتش ارزش خرید دارهجاداره طراحیش قشن...</td>\n    </tr>\n    <tr>\n      <th>1</th>\n      <td>[چند ماهی میشه که گرفتمش, برای برنامه نویسی و ...</td>\n    </tr>\n    <tr>\n      <th>2</th>\n      <td>[پراید ستون جدید]</td>\n    </tr>\n    <tr>\n      <th>3</th>\n      <td>[اقا همه چیش خوبه فقط از پایین زیاد حاشیه داره...</td>\n    </tr>\n    <tr>\n      <th>4</th>\n      <td>[گوسی هو اوی سیپیو و دوربین و رمش از این خیلی ...</td>\n    </tr>\n    <tr>\n      <th>...</th>\n      <td>...</td>\n    </tr>\n    <tr>\n      <th>235</th>\n      <td>[پوشش دهی صفراصلا پیشنهاد نمی‌کنم]</td>\n    </tr>\n    <tr>\n      <th>236</th>\n      <td>[نصب این فن خیلی راحته و دردسر زیادی نداره درض...</td>\n    </tr>\n    <tr>\n      <th>237</th>\n      <td>[بی‌کیفیت]</td>\n    </tr>\n    <tr>\n      <th>238</th>\n      <td>[سلام ٬ چندماهی میشه این پاور بانک رو تهیه کرد...</td>\n    </tr>\n    <tr>\n      <th>239</th>\n      <td>[این مدل رو من چند روزی هست که دریافت کردمتوی ...</td>\n    </tr>\n  </tbody>\n</table>\n<p>240 rows × 1 columns</p>\n</div>"
     },
     "execution_count": 75,
     "metadata": {},
     "output_type": "execute_result"
    }
   ],
   "source": [
    "#text normalizing\n",
    "from hazm import Normalizer\n",
    "\n",
    "def apply_normalizer(list_sentence: list):\n",
    "    new_list = []\n",
    "    norm = Normalizer()\n",
    "    for sent in list_sentence:\n",
    "        new_list.append(norm.normalize(sent))\n",
    "    return new_list\n",
    "\n",
    "data['comment'] = data['comment'].apply(apply_normalizer)\n",
    "data"
   ],
   "metadata": {
    "collapsed": false,
    "ExecuteTime": {
     "end_time": "2024-04-21T07:32:31.524386900Z",
     "start_time": "2024-04-21T07:27:30.049998500Z"
    }
   }
  },
  {
   "cell_type": "code",
   "execution_count": null,
   "outputs": [],
   "source": [],
   "metadata": {
    "collapsed": false
   }
  }
 ],
 "metadata": {
  "kernelspec": {
   "display_name": "Python 3",
   "language": "python",
   "name": "python3"
  },
  "language_info": {
   "codemirror_mode": {
    "name": "ipython",
    "version": 2
   },
   "file_extension": ".py",
   "mimetype": "text/x-python",
   "name": "python",
   "nbconvert_exporter": "python",
   "pygments_lexer": "ipython2",
   "version": "2.7.6"
  }
 },
 "nbformat": 4,
 "nbformat_minor": 0
}
