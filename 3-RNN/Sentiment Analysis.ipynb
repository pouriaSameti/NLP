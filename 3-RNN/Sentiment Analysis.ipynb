{
 "cells": [
  {
   "cell_type": "code",
   "execution_count": 1,
   "metadata": {
    "collapsed": true,
    "ExecuteTime": {
     "end_time": "2024-05-30T12:37:27.806719500Z",
     "start_time": "2024-05-30T12:37:26.488085300Z"
    }
   },
   "outputs": [],
   "source": [
    "import pandas as pd\n",
    "import numpy as np"
   ]
  },
  {
   "cell_type": "code",
   "execution_count": 3,
   "outputs": [
    {
     "data": {
      "text/plain": "                                                      text  \\\n0        @switchfoot http://twitpic.com/2y1zl - Awww, t...   \n1        is upset that he can't update his Facebook by ...   \n2        @Kenichan I dived many times for the ball. Man...   \n3          my whole body feels itchy and like its on fire    \n4        @nationwideclass no, it's not behaving at all....   \n...                                                    ...   \n1599995  Just woke up. Having no school is the best fee...   \n1599996  TheWDB.com - Very cool to hear old Walt interv...   \n1599997  Are you ready for your MoJo Makeover? Ask me f...   \n1599998  Happy 38th Birthday to my boo of alll time!!! ...   \n1599999  happy #charitytuesday @theNSPCC @SparksCharity...   \n\n                                 date             user  sentiment     query  \n0        Mon Apr 06 22:19:45 PDT 2009  _TheSpecialOne_          0  NO_QUERY  \n1        Mon Apr 06 22:19:49 PDT 2009    scotthamilton          0  NO_QUERY  \n2        Mon Apr 06 22:19:53 PDT 2009         mattycus          0  NO_QUERY  \n3        Mon Apr 06 22:19:57 PDT 2009          ElleCTF          0  NO_QUERY  \n4        Mon Apr 06 22:19:57 PDT 2009           Karoli          0  NO_QUERY  \n...                               ...              ...        ...       ...  \n1599995  Tue Jun 16 08:40:49 PDT 2009  AmandaMarie1028          4  NO_QUERY  \n1599996  Tue Jun 16 08:40:49 PDT 2009      TheWDBoards          4  NO_QUERY  \n1599997  Tue Jun 16 08:40:49 PDT 2009           bpbabe          4  NO_QUERY  \n1599998  Tue Jun 16 08:40:49 PDT 2009     tinydiamondz          4  NO_QUERY  \n1599999  Tue Jun 16 08:40:50 PDT 2009   RyanTrevMorris          4  NO_QUERY  \n\n[1600000 rows x 5 columns]",
      "text/html": "<div>\n<style scoped>\n    .dataframe tbody tr th:only-of-type {\n        vertical-align: middle;\n    }\n\n    .dataframe tbody tr th {\n        vertical-align: top;\n    }\n\n    .dataframe thead th {\n        text-align: right;\n    }\n</style>\n<table border=\"1\" class=\"dataframe\">\n  <thead>\n    <tr style=\"text-align: right;\">\n      <th></th>\n      <th>text</th>\n      <th>date</th>\n      <th>user</th>\n      <th>sentiment</th>\n      <th>query</th>\n    </tr>\n  </thead>\n  <tbody>\n    <tr>\n      <th>0</th>\n      <td>@switchfoot http://twitpic.com/2y1zl - Awww, t...</td>\n      <td>Mon Apr 06 22:19:45 PDT 2009</td>\n      <td>_TheSpecialOne_</td>\n      <td>0</td>\n      <td>NO_QUERY</td>\n    </tr>\n    <tr>\n      <th>1</th>\n      <td>is upset that he can't update his Facebook by ...</td>\n      <td>Mon Apr 06 22:19:49 PDT 2009</td>\n      <td>scotthamilton</td>\n      <td>0</td>\n      <td>NO_QUERY</td>\n    </tr>\n    <tr>\n      <th>2</th>\n      <td>@Kenichan I dived many times for the ball. Man...</td>\n      <td>Mon Apr 06 22:19:53 PDT 2009</td>\n      <td>mattycus</td>\n      <td>0</td>\n      <td>NO_QUERY</td>\n    </tr>\n    <tr>\n      <th>3</th>\n      <td>my whole body feels itchy and like its on fire</td>\n      <td>Mon Apr 06 22:19:57 PDT 2009</td>\n      <td>ElleCTF</td>\n      <td>0</td>\n      <td>NO_QUERY</td>\n    </tr>\n    <tr>\n      <th>4</th>\n      <td>@nationwideclass no, it's not behaving at all....</td>\n      <td>Mon Apr 06 22:19:57 PDT 2009</td>\n      <td>Karoli</td>\n      <td>0</td>\n      <td>NO_QUERY</td>\n    </tr>\n    <tr>\n      <th>...</th>\n      <td>...</td>\n      <td>...</td>\n      <td>...</td>\n      <td>...</td>\n      <td>...</td>\n    </tr>\n    <tr>\n      <th>1599995</th>\n      <td>Just woke up. Having no school is the best fee...</td>\n      <td>Tue Jun 16 08:40:49 PDT 2009</td>\n      <td>AmandaMarie1028</td>\n      <td>4</td>\n      <td>NO_QUERY</td>\n    </tr>\n    <tr>\n      <th>1599996</th>\n      <td>TheWDB.com - Very cool to hear old Walt interv...</td>\n      <td>Tue Jun 16 08:40:49 PDT 2009</td>\n      <td>TheWDBoards</td>\n      <td>4</td>\n      <td>NO_QUERY</td>\n    </tr>\n    <tr>\n      <th>1599997</th>\n      <td>Are you ready for your MoJo Makeover? Ask me f...</td>\n      <td>Tue Jun 16 08:40:49 PDT 2009</td>\n      <td>bpbabe</td>\n      <td>4</td>\n      <td>NO_QUERY</td>\n    </tr>\n    <tr>\n      <th>1599998</th>\n      <td>Happy 38th Birthday to my boo of alll time!!! ...</td>\n      <td>Tue Jun 16 08:40:49 PDT 2009</td>\n      <td>tinydiamondz</td>\n      <td>4</td>\n      <td>NO_QUERY</td>\n    </tr>\n    <tr>\n      <th>1599999</th>\n      <td>happy #charitytuesday @theNSPCC @SparksCharity...</td>\n      <td>Tue Jun 16 08:40:50 PDT 2009</td>\n      <td>RyanTrevMorris</td>\n      <td>4</td>\n      <td>NO_QUERY</td>\n    </tr>\n  </tbody>\n</table>\n<p>1600000 rows × 5 columns</p>\n</div>"
     },
     "execution_count": 3,
     "metadata": {},
     "output_type": "execute_result"
    }
   ],
   "source": [
    "data = pd.read_csv('Data/sentiment140.csv')\n",
    "data"
   ],
   "metadata": {
    "collapsed": false,
    "ExecuteTime": {
     "end_time": "2024-05-30T12:38:28.133517900Z",
     "start_time": "2024-05-30T12:38:23.358528600Z"
    }
   }
  },
  {
   "cell_type": "code",
   "execution_count": null,
   "outputs": [],
   "source": [],
   "metadata": {
    "collapsed": false
   }
  }
 ],
 "metadata": {
  "kernelspec": {
   "display_name": "Python 3",
   "language": "python",
   "name": "python3"
  },
  "language_info": {
   "codemirror_mode": {
    "name": "ipython",
    "version": 2
   },
   "file_extension": ".py",
   "mimetype": "text/x-python",
   "name": "python",
   "nbconvert_exporter": "python",
   "pygments_lexer": "ipython2",
   "version": "2.7.6"
  }
 },
 "nbformat": 4,
 "nbformat_minor": 0
}
