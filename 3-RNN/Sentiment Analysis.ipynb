{
 "cells": [
  {
   "cell_type": "code",
   "execution_count": 20,
   "metadata": {
    "collapsed": true,
    "ExecuteTime": {
     "end_time": "2024-05-31T09:25:03.177581Z",
     "start_time": "2024-05-31T09:25:03.156974700Z"
    }
   },
   "outputs": [],
   "source": [
    "import pandas as pd\n",
    "import numpy as np\n",
    "import nltk\n",
    "\n",
    "import torch\n",
    "import torch.nn as nn\n",
    "import torch.optim as optim\n",
    "# import torchtext\n",
    "import tqdm"
   ]
  },
  {
   "cell_type": "code",
   "execution_count": 21,
   "outputs": [
    {
     "name": "stderr",
     "output_type": "stream",
     "text": [
      "[nltk_data] Downloading package wordnet to\n",
      "[nltk_data]     C:\\Users\\pouri\\AppData\\Roaming\\nltk_data...\n",
      "[nltk_data]   Package wordnet is already up-to-date!\n"
     ]
    },
    {
     "data": {
      "text/plain": "True"
     },
     "execution_count": 21,
     "metadata": {},
     "output_type": "execute_result"
    }
   ],
   "source": [
    "# load google news word2vec\n",
    "import gensim.downloader as api\n",
    "# w2v = api.load('word2vec-google-news-300')\n",
    "nltk.download('wordnet')"
   ],
   "metadata": {
    "collapsed": false,
    "ExecuteTime": {
     "end_time": "2024-05-31T09:25:03.250343Z",
     "start_time": "2024-05-31T09:25:03.170406300Z"
    }
   }
  },
  {
   "cell_type": "code",
   "execution_count": 22,
   "outputs": [
    {
     "data": {
      "text/plain": "                                                      text  \\\n0        @switchfoot http://twitpic.com/2y1zl - Awww, t...   \n1        is upset that he can't update his Facebook by ...   \n2        @Kenichan I dived many times for the ball. Man...   \n3          my whole body feels itchy and like its on fire    \n4        @nationwideclass no, it's not behaving at all....   \n...                                                    ...   \n1599995  Just woke up. Having no school is the best fee...   \n1599996  TheWDB.com - Very cool to hear old Walt interv...   \n1599997  Are you ready for your MoJo Makeover? Ask me f...   \n1599998  Happy 38th Birthday to my boo of alll time!!! ...   \n1599999  happy #charitytuesday @theNSPCC @SparksCharity...   \n\n                                 date             user  sentiment     query  \n0        Mon Apr 06 22:19:45 PDT 2009  _TheSpecialOne_          0  NO_QUERY  \n1        Mon Apr 06 22:19:49 PDT 2009    scotthamilton          0  NO_QUERY  \n2        Mon Apr 06 22:19:53 PDT 2009         mattycus          0  NO_QUERY  \n3        Mon Apr 06 22:19:57 PDT 2009          ElleCTF          0  NO_QUERY  \n4        Mon Apr 06 22:19:57 PDT 2009           Karoli          0  NO_QUERY  \n...                               ...              ...        ...       ...  \n1599995  Tue Jun 16 08:40:49 PDT 2009  AmandaMarie1028          4  NO_QUERY  \n1599996  Tue Jun 16 08:40:49 PDT 2009      TheWDBoards          4  NO_QUERY  \n1599997  Tue Jun 16 08:40:49 PDT 2009           bpbabe          4  NO_QUERY  \n1599998  Tue Jun 16 08:40:49 PDT 2009     tinydiamondz          4  NO_QUERY  \n1599999  Tue Jun 16 08:40:50 PDT 2009   RyanTrevMorris          4  NO_QUERY  \n\n[1600000 rows x 5 columns]",
      "text/html": "<div>\n<style scoped>\n    .dataframe tbody tr th:only-of-type {\n        vertical-align: middle;\n    }\n\n    .dataframe tbody tr th {\n        vertical-align: top;\n    }\n\n    .dataframe thead th {\n        text-align: right;\n    }\n</style>\n<table border=\"1\" class=\"dataframe\">\n  <thead>\n    <tr style=\"text-align: right;\">\n      <th></th>\n      <th>text</th>\n      <th>date</th>\n      <th>user</th>\n      <th>sentiment</th>\n      <th>query</th>\n    </tr>\n  </thead>\n  <tbody>\n    <tr>\n      <th>0</th>\n      <td>@switchfoot http://twitpic.com/2y1zl - Awww, t...</td>\n      <td>Mon Apr 06 22:19:45 PDT 2009</td>\n      <td>_TheSpecialOne_</td>\n      <td>0</td>\n      <td>NO_QUERY</td>\n    </tr>\n    <tr>\n      <th>1</th>\n      <td>is upset that he can't update his Facebook by ...</td>\n      <td>Mon Apr 06 22:19:49 PDT 2009</td>\n      <td>scotthamilton</td>\n      <td>0</td>\n      <td>NO_QUERY</td>\n    </tr>\n    <tr>\n      <th>2</th>\n      <td>@Kenichan I dived many times for the ball. Man...</td>\n      <td>Mon Apr 06 22:19:53 PDT 2009</td>\n      <td>mattycus</td>\n      <td>0</td>\n      <td>NO_QUERY</td>\n    </tr>\n    <tr>\n      <th>3</th>\n      <td>my whole body feels itchy and like its on fire</td>\n      <td>Mon Apr 06 22:19:57 PDT 2009</td>\n      <td>ElleCTF</td>\n      <td>0</td>\n      <td>NO_QUERY</td>\n    </tr>\n    <tr>\n      <th>4</th>\n      <td>@nationwideclass no, it's not behaving at all....</td>\n      <td>Mon Apr 06 22:19:57 PDT 2009</td>\n      <td>Karoli</td>\n      <td>0</td>\n      <td>NO_QUERY</td>\n    </tr>\n    <tr>\n      <th>...</th>\n      <td>...</td>\n      <td>...</td>\n      <td>...</td>\n      <td>...</td>\n      <td>...</td>\n    </tr>\n    <tr>\n      <th>1599995</th>\n      <td>Just woke up. Having no school is the best fee...</td>\n      <td>Tue Jun 16 08:40:49 PDT 2009</td>\n      <td>AmandaMarie1028</td>\n      <td>4</td>\n      <td>NO_QUERY</td>\n    </tr>\n    <tr>\n      <th>1599996</th>\n      <td>TheWDB.com - Very cool to hear old Walt interv...</td>\n      <td>Tue Jun 16 08:40:49 PDT 2009</td>\n      <td>TheWDBoards</td>\n      <td>4</td>\n      <td>NO_QUERY</td>\n    </tr>\n    <tr>\n      <th>1599997</th>\n      <td>Are you ready for your MoJo Makeover? Ask me f...</td>\n      <td>Tue Jun 16 08:40:49 PDT 2009</td>\n      <td>bpbabe</td>\n      <td>4</td>\n      <td>NO_QUERY</td>\n    </tr>\n    <tr>\n      <th>1599998</th>\n      <td>Happy 38th Birthday to my boo of alll time!!! ...</td>\n      <td>Tue Jun 16 08:40:49 PDT 2009</td>\n      <td>tinydiamondz</td>\n      <td>4</td>\n      <td>NO_QUERY</td>\n    </tr>\n    <tr>\n      <th>1599999</th>\n      <td>happy #charitytuesday @theNSPCC @SparksCharity...</td>\n      <td>Tue Jun 16 08:40:50 PDT 2009</td>\n      <td>RyanTrevMorris</td>\n      <td>4</td>\n      <td>NO_QUERY</td>\n    </tr>\n  </tbody>\n</table>\n<p>1600000 rows × 5 columns</p>\n</div>"
     },
     "execution_count": 22,
     "metadata": {},
     "output_type": "execute_result"
    }
   ],
   "source": [
    "data = pd.read_csv('Data/sentiment140.csv')\n",
    "data"
   ],
   "metadata": {
    "collapsed": false,
    "ExecuteTime": {
     "end_time": "2024-05-31T09:25:07.472629800Z",
     "start_time": "2024-05-31T09:25:03.184560500Z"
    }
   }
  },
  {
   "cell_type": "code",
   "execution_count": 23,
   "outputs": [
    {
     "data": {
      "text/plain": "                                                      text  \\\n0         MENTION   URL    awww  that s a bummer   you ...   \n1        is upset that he can t update his facebook by ...   \n2         MENTION  i dived many times for the ball  man...   \n3          my whole body feels itchy and like its on fire    \n4         MENTION  no  it s not behaving at all  i m ma...   \n...                                                    ...   \n1599995  just woke up  having no school is the best fee...   \n1599996  thewdb com   very cool to hear old walt interv...   \n1599997  are you ready for your mojo makeover  ask me f...   \n1599998  happy   birthday to my boo of alll time    tup...   \n1599999  happy  charitytuesday  MENTION   MENTION   MEN...   \n\n                                 date             user  sentiment     query  \n0        Mon Apr 06 22:19:45 PDT 2009  _TheSpecialOne_          0  NO_QUERY  \n1        Mon Apr 06 22:19:49 PDT 2009    scotthamilton          0  NO_QUERY  \n2        Mon Apr 06 22:19:53 PDT 2009         mattycus          0  NO_QUERY  \n3        Mon Apr 06 22:19:57 PDT 2009          ElleCTF          0  NO_QUERY  \n4        Mon Apr 06 22:19:57 PDT 2009           Karoli          0  NO_QUERY  \n...                               ...              ...        ...       ...  \n1599995  Tue Jun 16 08:40:49 PDT 2009  AmandaMarie1028          4  NO_QUERY  \n1599996  Tue Jun 16 08:40:49 PDT 2009      TheWDBoards          4  NO_QUERY  \n1599997  Tue Jun 16 08:40:49 PDT 2009           bpbabe          4  NO_QUERY  \n1599998  Tue Jun 16 08:40:49 PDT 2009     tinydiamondz          4  NO_QUERY  \n1599999  Tue Jun 16 08:40:50 PDT 2009   RyanTrevMorris          4  NO_QUERY  \n\n[1600000 rows x 5 columns]",
      "text/html": "<div>\n<style scoped>\n    .dataframe tbody tr th:only-of-type {\n        vertical-align: middle;\n    }\n\n    .dataframe tbody tr th {\n        vertical-align: top;\n    }\n\n    .dataframe thead th {\n        text-align: right;\n    }\n</style>\n<table border=\"1\" class=\"dataframe\">\n  <thead>\n    <tr style=\"text-align: right;\">\n      <th></th>\n      <th>text</th>\n      <th>date</th>\n      <th>user</th>\n      <th>sentiment</th>\n      <th>query</th>\n    </tr>\n  </thead>\n  <tbody>\n    <tr>\n      <th>0</th>\n      <td>MENTION   URL    awww  that s a bummer   you ...</td>\n      <td>Mon Apr 06 22:19:45 PDT 2009</td>\n      <td>_TheSpecialOne_</td>\n      <td>0</td>\n      <td>NO_QUERY</td>\n    </tr>\n    <tr>\n      <th>1</th>\n      <td>is upset that he can t update his facebook by ...</td>\n      <td>Mon Apr 06 22:19:49 PDT 2009</td>\n      <td>scotthamilton</td>\n      <td>0</td>\n      <td>NO_QUERY</td>\n    </tr>\n    <tr>\n      <th>2</th>\n      <td>MENTION  i dived many times for the ball  man...</td>\n      <td>Mon Apr 06 22:19:53 PDT 2009</td>\n      <td>mattycus</td>\n      <td>0</td>\n      <td>NO_QUERY</td>\n    </tr>\n    <tr>\n      <th>3</th>\n      <td>my whole body feels itchy and like its on fire</td>\n      <td>Mon Apr 06 22:19:57 PDT 2009</td>\n      <td>ElleCTF</td>\n      <td>0</td>\n      <td>NO_QUERY</td>\n    </tr>\n    <tr>\n      <th>4</th>\n      <td>MENTION  no  it s not behaving at all  i m ma...</td>\n      <td>Mon Apr 06 22:19:57 PDT 2009</td>\n      <td>Karoli</td>\n      <td>0</td>\n      <td>NO_QUERY</td>\n    </tr>\n    <tr>\n      <th>...</th>\n      <td>...</td>\n      <td>...</td>\n      <td>...</td>\n      <td>...</td>\n      <td>...</td>\n    </tr>\n    <tr>\n      <th>1599995</th>\n      <td>just woke up  having no school is the best fee...</td>\n      <td>Tue Jun 16 08:40:49 PDT 2009</td>\n      <td>AmandaMarie1028</td>\n      <td>4</td>\n      <td>NO_QUERY</td>\n    </tr>\n    <tr>\n      <th>1599996</th>\n      <td>thewdb com   very cool to hear old walt interv...</td>\n      <td>Tue Jun 16 08:40:49 PDT 2009</td>\n      <td>TheWDBoards</td>\n      <td>4</td>\n      <td>NO_QUERY</td>\n    </tr>\n    <tr>\n      <th>1599997</th>\n      <td>are you ready for your mojo makeover  ask me f...</td>\n      <td>Tue Jun 16 08:40:49 PDT 2009</td>\n      <td>bpbabe</td>\n      <td>4</td>\n      <td>NO_QUERY</td>\n    </tr>\n    <tr>\n      <th>1599998</th>\n      <td>happy   birthday to my boo of alll time    tup...</td>\n      <td>Tue Jun 16 08:40:49 PDT 2009</td>\n      <td>tinydiamondz</td>\n      <td>4</td>\n      <td>NO_QUERY</td>\n    </tr>\n    <tr>\n      <th>1599999</th>\n      <td>happy  charitytuesday  MENTION   MENTION   MEN...</td>\n      <td>Tue Jun 16 08:40:50 PDT 2009</td>\n      <td>RyanTrevMorris</td>\n      <td>4</td>\n      <td>NO_QUERY</td>\n    </tr>\n  </tbody>\n</table>\n<p>1600000 rows × 5 columns</p>\n</div>"
     },
     "execution_count": 23,
     "metadata": {},
     "output_type": "execute_result"
    }
   ],
   "source": [
    "#remove web addresses, signs\n",
    "#change to lowercase\n",
    "\n",
    "import re\n",
    "import string\n",
    "\n",
    "def clean_en_text(text):\n",
    "\n",
    "    text = text.lower()\n",
    "    text = re.sub('https?://\\S+|www\\.\\S+', '<URL>', text)\n",
    "    text = re.sub('@\\S+', '<MENTION>', text)\n",
    "    text = re.sub('\\[.*?\\]', ' ', text)\n",
    "    text = re.sub('[%s]' % re.escape(string.punctuation), ' ', text)\n",
    "    text = re.sub('\\n', ' ', text)\n",
    "    text = re.sub('\\w*\\d\\w*', ' ', text)\n",
    "\n",
    "    # removing sign\n",
    "    text = ''.join([i for i in text if ord(i) not in [33, 34, 35, 36, 37, 38,\n",
    "                                                      39, 40, 41, 42, 43, 44,\n",
    "                                                      45, 46, 47, 58, 59, 60,\n",
    "                                                      61, 62, 63, 64, 91, 92,\n",
    "                                                      93, 94, 95, 96, 123, 124,\n",
    "                                                      125, 126, 1548, 1567]])\n",
    "    return text\n",
    "\n",
    "data['text'] = data['text'].apply(clean_en_text)\n",
    "data"
   ],
   "metadata": {
    "collapsed": false,
    "ExecuteTime": {
     "end_time": "2024-05-31T09:28:01.404888Z",
     "start_time": "2024-05-31T09:25:07.558590900Z"
    }
   }
  },
  {
   "cell_type": "code",
   "execution_count": 24,
   "outputs": [
    {
     "data": {
      "text/plain": "                                                      text  \\\n0        [MENTION, URL, awww, that, s, a, bummer, you, ...   \n1        [is, upset, that, he, can, t, update, his, fac...   \n2        [MENTION, i, dived, many, times, for, the, bal...   \n3        [my, whole, body, feels, itchy, and, like, its...   \n4        [MENTION, no, it, s, not, behaving, at, all, i...   \n...                                                    ...   \n1599995  [just, woke, up, having, no, school, is, the, ...   \n1599996  [thewdb, com, very, cool, to, hear, old, walt,...   \n1599997  [are, you, ready, for, your, mojo, makeover, a...   \n1599998  [happy, birthday, to, my, boo, of, alll, time,...   \n1599999  [happy, charitytuesday, MENTION, MENTION, MENT...   \n\n                                 date             user  sentiment     query  \n0        Mon Apr 06 22:19:45 PDT 2009  _TheSpecialOne_          0  NO_QUERY  \n1        Mon Apr 06 22:19:49 PDT 2009    scotthamilton          0  NO_QUERY  \n2        Mon Apr 06 22:19:53 PDT 2009         mattycus          0  NO_QUERY  \n3        Mon Apr 06 22:19:57 PDT 2009          ElleCTF          0  NO_QUERY  \n4        Mon Apr 06 22:19:57 PDT 2009           Karoli          0  NO_QUERY  \n...                               ...              ...        ...       ...  \n1599995  Tue Jun 16 08:40:49 PDT 2009  AmandaMarie1028          4  NO_QUERY  \n1599996  Tue Jun 16 08:40:49 PDT 2009      TheWDBoards          4  NO_QUERY  \n1599997  Tue Jun 16 08:40:49 PDT 2009           bpbabe          4  NO_QUERY  \n1599998  Tue Jun 16 08:40:49 PDT 2009     tinydiamondz          4  NO_QUERY  \n1599999  Tue Jun 16 08:40:50 PDT 2009   RyanTrevMorris          4  NO_QUERY  \n\n[1600000 rows x 5 columns]",
      "text/html": "<div>\n<style scoped>\n    .dataframe tbody tr th:only-of-type {\n        vertical-align: middle;\n    }\n\n    .dataframe tbody tr th {\n        vertical-align: top;\n    }\n\n    .dataframe thead th {\n        text-align: right;\n    }\n</style>\n<table border=\"1\" class=\"dataframe\">\n  <thead>\n    <tr style=\"text-align: right;\">\n      <th></th>\n      <th>text</th>\n      <th>date</th>\n      <th>user</th>\n      <th>sentiment</th>\n      <th>query</th>\n    </tr>\n  </thead>\n  <tbody>\n    <tr>\n      <th>0</th>\n      <td>[MENTION, URL, awww, that, s, a, bummer, you, ...</td>\n      <td>Mon Apr 06 22:19:45 PDT 2009</td>\n      <td>_TheSpecialOne_</td>\n      <td>0</td>\n      <td>NO_QUERY</td>\n    </tr>\n    <tr>\n      <th>1</th>\n      <td>[is, upset, that, he, can, t, update, his, fac...</td>\n      <td>Mon Apr 06 22:19:49 PDT 2009</td>\n      <td>scotthamilton</td>\n      <td>0</td>\n      <td>NO_QUERY</td>\n    </tr>\n    <tr>\n      <th>2</th>\n      <td>[MENTION, i, dived, many, times, for, the, bal...</td>\n      <td>Mon Apr 06 22:19:53 PDT 2009</td>\n      <td>mattycus</td>\n      <td>0</td>\n      <td>NO_QUERY</td>\n    </tr>\n    <tr>\n      <th>3</th>\n      <td>[my, whole, body, feels, itchy, and, like, its...</td>\n      <td>Mon Apr 06 22:19:57 PDT 2009</td>\n      <td>ElleCTF</td>\n      <td>0</td>\n      <td>NO_QUERY</td>\n    </tr>\n    <tr>\n      <th>4</th>\n      <td>[MENTION, no, it, s, not, behaving, at, all, i...</td>\n      <td>Mon Apr 06 22:19:57 PDT 2009</td>\n      <td>Karoli</td>\n      <td>0</td>\n      <td>NO_QUERY</td>\n    </tr>\n    <tr>\n      <th>...</th>\n      <td>...</td>\n      <td>...</td>\n      <td>...</td>\n      <td>...</td>\n      <td>...</td>\n    </tr>\n    <tr>\n      <th>1599995</th>\n      <td>[just, woke, up, having, no, school, is, the, ...</td>\n      <td>Tue Jun 16 08:40:49 PDT 2009</td>\n      <td>AmandaMarie1028</td>\n      <td>4</td>\n      <td>NO_QUERY</td>\n    </tr>\n    <tr>\n      <th>1599996</th>\n      <td>[thewdb, com, very, cool, to, hear, old, walt,...</td>\n      <td>Tue Jun 16 08:40:49 PDT 2009</td>\n      <td>TheWDBoards</td>\n      <td>4</td>\n      <td>NO_QUERY</td>\n    </tr>\n    <tr>\n      <th>1599997</th>\n      <td>[are, you, ready, for, your, mojo, makeover, a...</td>\n      <td>Tue Jun 16 08:40:49 PDT 2009</td>\n      <td>bpbabe</td>\n      <td>4</td>\n      <td>NO_QUERY</td>\n    </tr>\n    <tr>\n      <th>1599998</th>\n      <td>[happy, birthday, to, my, boo, of, alll, time,...</td>\n      <td>Tue Jun 16 08:40:49 PDT 2009</td>\n      <td>tinydiamondz</td>\n      <td>4</td>\n      <td>NO_QUERY</td>\n    </tr>\n    <tr>\n      <th>1599999</th>\n      <td>[happy, charitytuesday, MENTION, MENTION, MENT...</td>\n      <td>Tue Jun 16 08:40:50 PDT 2009</td>\n      <td>RyanTrevMorris</td>\n      <td>4</td>\n      <td>NO_QUERY</td>\n    </tr>\n  </tbody>\n</table>\n<p>1600000 rows × 5 columns</p>\n</div>"
     },
     "execution_count": 24,
     "metadata": {},
     "output_type": "execute_result"
    }
   ],
   "source": [
    "# Tokenizing\n",
    "\n",
    "tokenizer = nltk.tokenize.RegexpTokenizer(r'\\w+')\n",
    "data['text'] = data['text'].apply(lambda x: tokenizer.tokenize(x))\n",
    "data"
   ],
   "metadata": {
    "collapsed": false,
    "ExecuteTime": {
     "end_time": "2024-05-31T09:28:28.124107900Z",
     "start_time": "2024-05-31T09:28:01.412860200Z"
    }
   }
  },
  {
   "cell_type": "code",
   "execution_count": 25,
   "outputs": [
    {
     "data": {
      "text/plain": "                                                      text  \\\n0        [MENTION, URL, awww, that, s, a, bummer, you, ...   \n1        [is, upset, that, he, can, t, update, his, fac...   \n2        [MENTION, i, dived, many, time, for, the, ball...   \n3        [my, whole, body, feel, itchy, and, like, it, ...   \n4        [MENTION, no, it, s, not, behaving, at, all, i...   \n...                                                    ...   \n1599995  [just, woke, up, having, no, school, is, the, ...   \n1599996  [thewdb, com, very, cool, to, hear, old, walt,...   \n1599997  [are, you, ready, for, your, mojo, makeover, a...   \n1599998  [happy, birthday, to, my, boo, of, alll, time,...   \n1599999  [happy, charitytuesday, MENTION, MENTION, MENT...   \n\n                                 date             user  sentiment     query  \n0        Mon Apr 06 22:19:45 PDT 2009  _TheSpecialOne_          0  NO_QUERY  \n1        Mon Apr 06 22:19:49 PDT 2009    scotthamilton          0  NO_QUERY  \n2        Mon Apr 06 22:19:53 PDT 2009         mattycus          0  NO_QUERY  \n3        Mon Apr 06 22:19:57 PDT 2009          ElleCTF          0  NO_QUERY  \n4        Mon Apr 06 22:19:57 PDT 2009           Karoli          0  NO_QUERY  \n...                               ...              ...        ...       ...  \n1599995  Tue Jun 16 08:40:49 PDT 2009  AmandaMarie1028          4  NO_QUERY  \n1599996  Tue Jun 16 08:40:49 PDT 2009      TheWDBoards          4  NO_QUERY  \n1599997  Tue Jun 16 08:40:49 PDT 2009           bpbabe          4  NO_QUERY  \n1599998  Tue Jun 16 08:40:49 PDT 2009     tinydiamondz          4  NO_QUERY  \n1599999  Tue Jun 16 08:40:50 PDT 2009   RyanTrevMorris          4  NO_QUERY  \n\n[1600000 rows x 5 columns]",
      "text/html": "<div>\n<style scoped>\n    .dataframe tbody tr th:only-of-type {\n        vertical-align: middle;\n    }\n\n    .dataframe tbody tr th {\n        vertical-align: top;\n    }\n\n    .dataframe thead th {\n        text-align: right;\n    }\n</style>\n<table border=\"1\" class=\"dataframe\">\n  <thead>\n    <tr style=\"text-align: right;\">\n      <th></th>\n      <th>text</th>\n      <th>date</th>\n      <th>user</th>\n      <th>sentiment</th>\n      <th>query</th>\n    </tr>\n  </thead>\n  <tbody>\n    <tr>\n      <th>0</th>\n      <td>[MENTION, URL, awww, that, s, a, bummer, you, ...</td>\n      <td>Mon Apr 06 22:19:45 PDT 2009</td>\n      <td>_TheSpecialOne_</td>\n      <td>0</td>\n      <td>NO_QUERY</td>\n    </tr>\n    <tr>\n      <th>1</th>\n      <td>[is, upset, that, he, can, t, update, his, fac...</td>\n      <td>Mon Apr 06 22:19:49 PDT 2009</td>\n      <td>scotthamilton</td>\n      <td>0</td>\n      <td>NO_QUERY</td>\n    </tr>\n    <tr>\n      <th>2</th>\n      <td>[MENTION, i, dived, many, time, for, the, ball...</td>\n      <td>Mon Apr 06 22:19:53 PDT 2009</td>\n      <td>mattycus</td>\n      <td>0</td>\n      <td>NO_QUERY</td>\n    </tr>\n    <tr>\n      <th>3</th>\n      <td>[my, whole, body, feel, itchy, and, like, it, ...</td>\n      <td>Mon Apr 06 22:19:57 PDT 2009</td>\n      <td>ElleCTF</td>\n      <td>0</td>\n      <td>NO_QUERY</td>\n    </tr>\n    <tr>\n      <th>4</th>\n      <td>[MENTION, no, it, s, not, behaving, at, all, i...</td>\n      <td>Mon Apr 06 22:19:57 PDT 2009</td>\n      <td>Karoli</td>\n      <td>0</td>\n      <td>NO_QUERY</td>\n    </tr>\n    <tr>\n      <th>...</th>\n      <td>...</td>\n      <td>...</td>\n      <td>...</td>\n      <td>...</td>\n      <td>...</td>\n    </tr>\n    <tr>\n      <th>1599995</th>\n      <td>[just, woke, up, having, no, school, is, the, ...</td>\n      <td>Tue Jun 16 08:40:49 PDT 2009</td>\n      <td>AmandaMarie1028</td>\n      <td>4</td>\n      <td>NO_QUERY</td>\n    </tr>\n    <tr>\n      <th>1599996</th>\n      <td>[thewdb, com, very, cool, to, hear, old, walt,...</td>\n      <td>Tue Jun 16 08:40:49 PDT 2009</td>\n      <td>TheWDBoards</td>\n      <td>4</td>\n      <td>NO_QUERY</td>\n    </tr>\n    <tr>\n      <th>1599997</th>\n      <td>[are, you, ready, for, your, mojo, makeover, a...</td>\n      <td>Tue Jun 16 08:40:49 PDT 2009</td>\n      <td>bpbabe</td>\n      <td>4</td>\n      <td>NO_QUERY</td>\n    </tr>\n    <tr>\n      <th>1599998</th>\n      <td>[happy, birthday, to, my, boo, of, alll, time,...</td>\n      <td>Tue Jun 16 08:40:49 PDT 2009</td>\n      <td>tinydiamondz</td>\n      <td>4</td>\n      <td>NO_QUERY</td>\n    </tr>\n    <tr>\n      <th>1599999</th>\n      <td>[happy, charitytuesday, MENTION, MENTION, MENT...</td>\n      <td>Tue Jun 16 08:40:50 PDT 2009</td>\n      <td>RyanTrevMorris</td>\n      <td>4</td>\n      <td>NO_QUERY</td>\n    </tr>\n  </tbody>\n</table>\n<p>1600000 rows × 5 columns</p>\n</div>"
     },
     "execution_count": 25,
     "metadata": {},
     "output_type": "execute_result"
    }
   ],
   "source": [
    "#Lemmatizing\n",
    "from nltk.stem import WordNetLemmatizer\n",
    "\n",
    "def lemmatizer(text_list):\n",
    "    lemm = WordNetLemmatizer()\n",
    "    words = [lemm.lemmatize(word) for word in text_list]\n",
    "    return words\n",
    "\n",
    "\n",
    "data['text'] = data['text'].apply(lambda x: lemmatizer(x))\n",
    "data"
   ],
   "metadata": {
    "collapsed": false,
    "ExecuteTime": {
     "end_time": "2024-05-31T09:32:31.642331700Z",
     "start_time": "2024-05-31T09:28:28.130480600Z"
    }
   }
  },
  {
   "cell_type": "code",
   "execution_count": 26,
   "outputs": [
    {
     "data": {
      "text/plain": "0     [MENTION, URL, awww, that, s, a, bummer, you, ...\n1     [is, upset, that, he, can, t, update, his, fac...\n2     [MENTION, i, dived, many, time, for, the, ball...\n3     [my, whole, body, feel, itchy, and, like, it, ...\n4     [MENTION, no, it, s, not, behaving, at, all, i...\n5                      [MENTION, not, the, whole, crew]\n6                                        [need, a, hug]\n7     [MENTION, hey, long, time, no, see, yes, rain,...\n8              [MENTION, nope, they, didn, t, have, it]\n9                             [MENTION, que, me, muera]\n10     [spring, break, in, plain, city, it, s, snowing]\n11                      [i, just, re, pierced, my, ear]\n12    [MENTION, i, couldn, t, bear, to, watch, it, a...\n13    [MENTION, it, it, count, idk, why, i, did, eit...\n14    [MENTION, i, would, ve, been, the, first, but,...\n15    [MENTION, i, wish, i, got, to, watch, it, with...\n16    [hollis, death, scene, will, hurt, me, severel...\n17                               [about, to, file, tax]\n18    [MENTION, ahh, ive, always, wanted, to, see, r...\n19    [MENTION, oh, dear, were, you, drinking, out, ...\nName: text, dtype: object"
     },
     "execution_count": 26,
     "metadata": {},
     "output_type": "execute_result"
    }
   ],
   "source": [
    "#Showing 20 first twits\n",
    "data['text'][0:20]"
   ],
   "metadata": {
    "collapsed": false,
    "ExecuteTime": {
     "end_time": "2024-05-31T09:32:31.723861100Z",
     "start_time": "2024-05-31T09:32:31.649308300Z"
    }
   }
  },
  {
   "cell_type": "code",
   "execution_count": 27,
   "outputs": [],
   "source": [
    "#train, test separation\n",
    "from sklearn.model_selection import train_test_split\n",
    "\n",
    "data = data.drop(columns=['query', 'user', 'date'])\n",
    "x_train, x_test, y_train, y_test = train_test_split(data['text'], data['sentiment'], train_size=0.8, random_state=42)"
   ],
   "metadata": {
    "collapsed": false,
    "ExecuteTime": {
     "end_time": "2024-05-31T09:32:32.173113400Z",
     "start_time": "2024-05-31T09:32:31.756274Z"
    }
   }
  },
  {
   "cell_type": "code",
   "execution_count": 28,
   "outputs": [],
   "source": [
    "def set_unique_id(all_text):\n",
    "    word_id = {} #key: word, value: unique_id\n",
    "\n",
    "    for row in all_text:\n",
    "        for word in row:\n",
    "            if word not in word_id.keys():\n",
    "                word_id[word] = len(word_id.keys())\n",
    "    return word_id\n",
    "\n",
    "word_unique_id = set_unique_id(data['text'])"
   ],
   "metadata": {
    "collapsed": false,
    "ExecuteTime": {
     "end_time": "2024-05-31T09:32:41.611558Z",
     "start_time": "2024-05-31T09:32:32.181094500Z"
    }
   }
  },
  {
   "cell_type": "code",
   "execution_count": 29,
   "outputs": [],
   "source": [
    "#training Word2Vec with x_train\n",
    "\n",
    "from gensim.models import Word2Vec\n",
    "model = Word2Vec(x_train, vector_size=128, window=5, sg=0)"
   ],
   "metadata": {
    "collapsed": false,
    "ExecuteTime": {
     "end_time": "2024-05-31T09:35:15.802813200Z",
     "start_time": "2024-05-31T09:32:41.614548Z"
    }
   }
  },
  {
   "cell_type": "code",
   "execution_count": 56,
   "outputs": [],
   "source": [
    "def get_word_embedding(tokenized_data: pd.DataFrame):\n",
    "    new_embedding = {}\n",
    "    counter = 0\n",
    "    for row in tokenized_data:\n",
    "        new_row = filter_word(row, model)\n",
    "        if not new_row:\n",
    "            continue\n",
    "\n",
    "        sentence_embedding = pd.DataFrame(model.wv[new_row]).sum()\n",
    "        new_embedding[counter] = sentence_embedding\n",
    "        counter += 1\n",
    "    return pd.DataFrame(new_embedding).T\n",
    "\n",
    "def filter_word(tokens, word2vec):\n",
    "    return [word for word in tokens if word in word2vec.wv]\n",
    "\n",
    "\n",
    "x_train_embedded = get_word_embedding(x_train)"
   ],
   "metadata": {
    "collapsed": false,
    "ExecuteTime": {
     "end_time": "2024-05-31T10:21:58.037861400Z",
     "start_time": "2024-05-31T10:16:51.380895500Z"
    }
   }
  }
 ],
 "metadata": {
  "kernelspec": {
   "display_name": "Python 3",
   "language": "python",
   "name": "python3"
  },
  "language_info": {
   "codemirror_mode": {
    "name": "ipython",
    "version": 2
   },
   "file_extension": ".py",
   "mimetype": "text/x-python",
   "name": "python",
   "nbconvert_exporter": "python",
   "pygments_lexer": "ipython2",
   "version": "2.7.6"
  }
 },
 "nbformat": 4,
 "nbformat_minor": 0
}
